{
    "nbformat_minor": 1, 
    "cells": [
        {
            "source": "with open (\"example.txt\",\"w\") as file:\n    file.write(\"Hello World\")\n#This is used to create a file or read a file. If file doesn't exist ,then it will gets created", 
            "cell_type": "code", 
            "metadata": {}, 
            "outputs": [], 
            "execution_count": 3
        }, 
        {
            "source": "!ls", 
            "cell_type": "code", 
            "metadata": {}, 
            "outputs": [
                {
                    "output_type": "stream", 
                    "name": "stdout", 
                    "text": "example.txt\r\n"
                }
            ], 
            "execution_count": 4
        }, 
        {
            "source": "with open (\"example.txt\",\"r\") as file:\n    print(file.read())\n# This is used to open a file in read mode", 
            "cell_type": "code", 
            "metadata": {}, 
            "outputs": [
                {
                    "output_type": "stream", 
                    "name": "stdout", 
                    "text": "Hello World\n"
                }
            ], 
            "execution_count": 6
        }, 
        {
            "source": "with open (\"example.txt\",\"a\") as file:\n    file.write(\"\\nHello Jupyter\")\n#this is used to append data in the file", 
            "cell_type": "code", 
            "metadata": {}, 
            "outputs": [], 
            "execution_count": 7
        }, 
        {
            "source": "with open (\"example.txt\",\"r\") as file:\n    print(file.read())", 
            "cell_type": "code", 
            "metadata": {}, 
            "outputs": [
                {
                    "output_type": "stream", 
                    "name": "stdout", 
                    "text": "Hello World\nHello Jupyter\n"
                }
            ], 
            "execution_count": 8
        }, 
        {
            "source": "with open (\"example.txt\",\"r\") as file:\n    print(file.readline()) #to read 1st line\n    print(file.readline()) #to read 2nd line", 
            "cell_type": "code", 
            "metadata": {}, 
            "outputs": [
                {
                    "output_type": "stream", 
                    "name": "stdout", 
                    "text": "Hello World\n\nHello Jupyter\n"
                }
            ], 
            "execution_count": 10
        }, 
        {
            "source": "with open (\"example.txt\",\"r\") as file:\n    print(file.read(5)) #to read 1st 5 characters\n    print(file.read(5))", 
            "cell_type": "code", 
            "metadata": {}, 
            "outputs": [
                {
                    "output_type": "stream", 
                    "name": "stdout", 
                    "text": "Hello\n Worl\n"
                }
            ], 
            "execution_count": 11
        }, 
        {
            "source": "# To write multiple lines using a list\nseq = [\"This is line1\\n\", \"This is line2\"]\nwith open (\"example1.txt\",\"a\") as file:\n    for line in seq:\n        file.write(line)\n#or in place of for loop we can use file.writelines(seq)", 
            "cell_type": "code", 
            "metadata": {}, 
            "outputs": [], 
            "execution_count": 12
        }, 
        {
            "source": "with open (\"example1.txt\",\"r\") as file:\n    print(file.read())", 
            "cell_type": "code", 
            "metadata": {}, 
            "outputs": [
                {
                    "output_type": "stream", 
                    "name": "stdout", 
                    "text": "This is line1\nThis is line2\n"
                }
            ], 
            "execution_count": 14
        }, 
        {
            "source": "with open (\"example1.txt\",\"r\") as file:\n    print(file.readlines())\n\n# This reads the files and prints the lines as a list", 
            "cell_type": "code", 
            "metadata": {}, 
            "outputs": [
                {
                    "output_type": "stream", 
                    "name": "stdout", 
                    "text": "['This is line1\\n', 'This is line2']\n"
                }
            ], 
            "execution_count": 15
        }, 
        {
            "source": "## To create a .CSV hile", 
            "cell_type": "markdown", 
            "metadata": {}
        }, 
        {
            "source": "seq = [\"James,\", \"Bond\",\"\\n\",\"Jackie,\",\"Chan\"]\nwith open (\"example2.csv\",\"w\") as file:\n    for line in seq:\n        file.write(line)", 
            "cell_type": "code", 
            "metadata": {}, 
            "outputs": [], 
            "execution_count": 20
        }, 
        {
            "source": "with open (\"example2.csv\",\"r\") as file:\n    print(file.read())", 
            "cell_type": "code", 
            "metadata": {}, 
            "outputs": [
                {
                    "output_type": "stream", 
                    "name": "stdout", 
                    "text": "James,Bond\nJackie,Chan\n"
                }
            ], 
            "execution_count": 21
        }, 
        {
            "source": "import pandas as pd", 
            "cell_type": "code", 
            "metadata": {}, 
            "outputs": [], 
            "execution_count": 22
        }, 
        {
            "source": "df = pd.read_csv(\"example2.csv\",header = None)\ndf", 
            "cell_type": "code", 
            "metadata": {}, 
            "outputs": [
                {
                    "output_type": "execute_result", 
                    "data": {
                        "text/html": "<div>\n<style scoped>\n    .dataframe tbody tr th:only-of-type {\n        vertical-align: middle;\n    }\n\n    .dataframe tbody tr th {\n        vertical-align: top;\n    }\n\n    .dataframe thead th {\n        text-align: right;\n    }\n</style>\n<table border=\"1\" class=\"dataframe\">\n  <thead>\n    <tr style=\"text-align: right;\">\n      <th></th>\n      <th>0</th>\n      <th>1</th>\n    </tr>\n  </thead>\n  <tbody>\n    <tr>\n      <th>0</th>\n      <td>James</td>\n      <td>Bond</td>\n    </tr>\n    <tr>\n      <th>1</th>\n      <td>Jackie</td>\n      <td>Chan</td>\n    </tr>\n  </tbody>\n</table>\n</div>", 
                        "text/plain": "        0     1\n0   James  Bond\n1  Jackie  Chan"
                    }, 
                    "execution_count": 27, 
                    "metadata": {}
                }
            ], 
            "execution_count": 27
        }, 
        {
            "source": "df = pd.read_csv(\"example2.csv\",header = None, names = ['A','B'])\ndf", 
            "cell_type": "code", 
            "metadata": {}, 
            "outputs": [
                {
                    "output_type": "execute_result", 
                    "data": {
                        "text/html": "<div>\n<style scoped>\n    .dataframe tbody tr th:only-of-type {\n        vertical-align: middle;\n    }\n\n    .dataframe tbody tr th {\n        vertical-align: top;\n    }\n\n    .dataframe thead th {\n        text-align: right;\n    }\n</style>\n<table border=\"1\" class=\"dataframe\">\n  <thead>\n    <tr style=\"text-align: right;\">\n      <th></th>\n      <th>A</th>\n      <th>B</th>\n    </tr>\n  </thead>\n  <tbody>\n    <tr>\n      <th>0</th>\n      <td>James</td>\n      <td>Bond</td>\n    </tr>\n    <tr>\n      <th>1</th>\n      <td>Jackie</td>\n      <td>Chan</td>\n    </tr>\n  </tbody>\n</table>\n</div>", 
                        "text/plain": "        A     B\n0   James  Bond\n1  Jackie  Chan"
                    }, 
                    "execution_count": 28, 
                    "metadata": {}
                }
            ], 
            "execution_count": 28
        }, 
        {
            "source": "", 
            "cell_type": "code", 
            "metadata": {}, 
            "outputs": [], 
            "execution_count": null
        }
    ], 
    "metadata": {
        "kernelspec": {
            "display_name": "Python 3.5", 
            "name": "python3", 
            "language": "python"
        }, 
        "language_info": {
            "mimetype": "text/x-python", 
            "nbconvert_exporter": "python", 
            "version": "3.5.5", 
            "name": "python", 
            "pygments_lexer": "ipython3", 
            "file_extension": ".py", 
            "codemirror_mode": {
                "version": 3, 
                "name": "ipython"
            }
        }
    }, 
    "nbformat": 4
}